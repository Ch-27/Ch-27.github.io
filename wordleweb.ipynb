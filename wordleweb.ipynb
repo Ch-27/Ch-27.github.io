{
  "nbformat": 4,
  "nbformat_minor": 0,
  "metadata": {
    "colab": {
      "provenance": [],
      "mount_file_id": "1HttUNPXyFE70xd4l5dfxw9bdWg5OZf7A",
      "authorship_tag": "ABX9TyMDzqQBMonPnQ4lOJf+G63R",
      "include_colab_link": true
    },
    "kernelspec": {
      "name": "python3",
      "display_name": "Python 3"
    },
    "language_info": {
      "name": "python"
    }
  },
  "cells": [
    {
      "cell_type": "markdown",
      "metadata": {
        "id": "view-in-github",
        "colab_type": "text"
      },
      "source": [
        "<a href=\"https://colab.research.google.com/github/Ch-27/Wordle-Game/blob/main/wordleweb.ipynb\" target=\"_parent\"><img src=\"https://colab.research.google.com/assets/colab-badge.svg\" alt=\"Open In Colab\"/></a>"
      ]
    },
    {
      "cell_type": "code",
      "source": [
        "!pip install django"
      ],
      "metadata": {
        "colab": {
          "base_uri": "https://localhost:8080/"
        },
        "id": "3IXvkKYsFOmK",
        "outputId": "d42b0976-26e3-436d-ab50-17f3f5ac6cc4"
      },
      "execution_count": null,
      "outputs": [
        {
          "output_type": "stream",
          "name": "stdout",
          "text": [
            "Collecting django\n",
            "  Downloading Django-5.0-py3-none-any.whl (8.1 MB)\n",
            "\u001b[2K     \u001b[90m━━━━━━━━━━━━━━━━━━━━━━━━━━━━━━━━━━━━━━━━\u001b[0m \u001b[32m8.1/8.1 MB\u001b[0m \u001b[31m15.9 MB/s\u001b[0m eta \u001b[36m0:00:00\u001b[0m\n",
            "\u001b[?25hCollecting asgiref>=3.7.0 (from django)\n",
            "  Downloading asgiref-3.7.2-py3-none-any.whl (24 kB)\n",
            "Requirement already satisfied: sqlparse>=0.3.1 in /usr/local/lib/python3.10/dist-packages (from django) (0.4.4)\n",
            "Requirement already satisfied: typing-extensions>=4 in /usr/local/lib/python3.10/dist-packages (from asgiref>=3.7.0->django) (4.5.0)\n"
          ]
        }
      ]
    },
    {
      "cell_type": "code",
      "source": [
        "##chatGPT\n",
        "import random\n",
        "from django.http import HttpResponse\n",
        "from django.shortcuts import render\n",
        "\n",
        "# Use the specific path\n",
        "file_path = \"/content/drive/MyDrive/Wordle/word.txt\"\n",
        "\n",
        "def home(request):\n",
        "    return render(request, 'home.html')\n",
        "\n",
        "def game(request):\n",
        "    with open(file_path, 'r') as f:\n",
        "        words = [word.strip() for word in f.readlines()]\n",
        "\n",
        "    word = random.choice(words)\n",
        "    guesses = 6\n",
        "    letters = []\n",
        "\n",
        "    if request.method == 'POST':\n",
        "        guess = request.POST.get('guess', '').lower()\n",
        "        if guess.isalpha() and len(guess) == 1:\n",
        "            if guess not in letters:\n",
        "                if guess in word:\n",
        "                    letters.append(guess)\n",
        "                else:\n",
        "                    guesses -= 1\n",
        "\n",
        "            if set(letters) == set(word):\n",
        "                return render(request, 'win.html')\n",
        "            elif guesses == 0:\n",
        "                return render(request, 'lose.html')\n",
        "\n",
        "    return render(request, 'game.html', {'guesses': guesses, 'letters': letters, 'word': word})\n"
      ],
      "metadata": {
        "id": "J21O1D2M3JEK"
      },
      "execution_count": 5,
      "outputs": []
    }
  ]
}